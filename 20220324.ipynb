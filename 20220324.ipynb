{
 "cells": [
  {
   "cell_type": "code",
   "execution_count": 2,
   "metadata": {},
   "outputs": [],
   "source": [
    "import requests\n",
    "from bs4 import BeautifulSoup as bs\n",
    "import pandas as pd\n",
    "\n",
    "url = 'https://music.bugs.co.kr/chart/track/day/total?chartdate=' + str(20220324)\n",
    "\n",
    "html = requests.get(url)\n",
    "soup = bs(html.text, 'html.parser')\n",
    "\n",
    "bugs_day = []\n",
    "tbody = soup.find('tbody')\n",
    "tr_soup = tbody.find_all('tr')\n",
    "for tr in tr_soup:\n",
    "    rank = tr.find('div',class_='ranking').get_text().split('\\n')[1]\n",
    "    title = tr.find('p',class_='title').get_text().replace('\\n','')\n",
    "    art = tr.find('p',class_='artist').get_text().replace('\\n','')\n",
    "    album = tr.find('a',class_='album').get_text().replace('\\n','')\n",
    "    bugs_day.append([rank,title,art,album])\n",
    "\n",
    "\n",
    "df = pd.DataFrame(bugs_day, columns = ['순위','곡명','아티스트','앨범'])\n",
    "df"
   ]
  },
  {
   "cell_type": "code",
   "execution_count": null,
   "metadata": {},
   "outputs": [],
   "source": []
  }
 ],
 "metadata": {
  "interpreter": {
   "hash": "b3ba2566441a7c06988d0923437866b63cedc61552a5af99d1f4fb67d367b25f"
  },
  "kernelspec": {
   "display_name": "Python 3.8.3 ('base')",
   "language": "python",
   "name": "python3"
  },
  "language_info": {
   "codemirror_mode": {
    "name": "ipython",
    "version": 3
   },
   "file_extension": ".py",
   "mimetype": "text/x-python",
   "name": "python",
   "nbconvert_exporter": "python",
   "pygments_lexer": "ipython3",
   "version": "3.8.3"
  },
  "orig_nbformat": 4
 },
 "nbformat": 4,
 "nbformat_minor": 2
}
